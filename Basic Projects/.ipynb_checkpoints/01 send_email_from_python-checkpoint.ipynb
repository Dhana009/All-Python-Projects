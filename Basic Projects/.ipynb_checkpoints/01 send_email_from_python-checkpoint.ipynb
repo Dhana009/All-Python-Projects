{
 "cells": [
  {
   "cell_type": "code",
   "execution_count": 4,
   "id": "ae8499fe",
   "metadata": {},
   "outputs": [],
   "source": [
    "#type 01\n",
    "\n",
    "import os\n",
    "import smtplib  #mailsender\n",
    "import ssl      #security\n",
    "import email    #email\n",
    "\n",
    "\n",
    "# Define email sender and receiver\n",
    "email_sender = 'tvsdhanan009@gmail.com'\n",
    "email_password = os.environ.get('password')\n",
    "email_receiver = 'tvsdhanan009@gmail.com'\n",
    "\n",
    "# Set the subject and body of the email\n",
    "subject = 'Checking the status'\n",
    "body = \"\"\"\n",
    "this is the test message \"\"\"\n",
    "\n",
    "em = email.message.EmailMessage()\n",
    "em['From'] = email_sender\n",
    "em['To'] = email_receiver\n",
    "em['Subject'] = subject\n",
    "em.set_content(body)\n",
    "\n",
    "# Add SSL (layer of security)\n",
    "context = ssl.create_default_context()\n",
    "\n",
    "# Log in and send the email\n",
    "with smtplib.SMTP_SSL('smtp.gmail.com', 465, context=context) as smtp:\n",
    "    smtp.login(email_sender, email_password)\n",
    "    smtp.sendmail(email_sender, email_receiver, em.as_string())"
   ]
  },
  {
   "cell_type": "code",
   "execution_count": null,
   "id": "42a8454d",
   "metadata": {},
   "outputs": [],
   "source": []
  },
  {
   "cell_type": "code",
   "execution_count": 7,
   "id": "7e65f5ec",
   "metadata": {},
   "outputs": [],
   "source": [
    "#type 02\n",
    "\n",
    "import os\n",
    "import smtplib  #mailsender\n",
    "import ssl      #security\n",
    "import email    #email\n",
    "\n",
    "\n",
    "# Set the subject and body of the email\n",
    "subject = 'Checking the status'\n",
    "body = \"\"\"\n",
    "this is the test message \"\"\"\n",
    "\n",
    "#create mail variable\n",
    "mail = email.message.EmailMessage()\n",
    "mail['Subject'] = subject\n",
    "mail.set_content(body)\n",
    "\n",
    "# Add SSL (layer of security)\n",
    "context = ssl.create_default_context()\n",
    "\n",
    "#list of mails to be sent\n",
    "tolist=[\"tvsdhanan009@gmail.com\",\"dhanan009@gmail.com\"]\n",
    "\n",
    "# Log in and send the email\n",
    "with smtplib.SMTP_SSL('smtp.gmail.com', 465, context=context) as smtp:\n",
    "    smtp.login('tvsdhanan009@gmail.com', os.environ.get('password'))\n",
    "    smtp.sendmail('tvsdhanan009@gmail.com', tolist,mail.as_string())"
   ]
  },
  {
   "cell_type": "code",
   "execution_count": null,
   "id": "dbf6b8ea",
   "metadata": {},
   "outputs": [],
   "source": []
  },
  {
   "cell_type": "code",
   "execution_count": null,
   "id": "b0e62e95",
   "metadata": {},
   "outputs": [],
   "source": []
  },
  {
   "cell_type": "code",
   "execution_count": null,
   "id": "89aa3a90",
   "metadata": {},
   "outputs": [],
   "source": []
  },
  {
   "cell_type": "code",
   "execution_count": 2,
   "id": "b8b03bc2",
   "metadata": {},
   "outputs": [],
   "source": [
    "import os\n",
    "os.environ['password'] = 'oxqxdnxauwdxsfnf'"
   ]
  },
  {
   "cell_type": "code",
   "execution_count": 3,
   "id": "db89791c",
   "metadata": {},
   "outputs": [
    {
     "data": {
      "text/plain": [
       "'oxqxdnxauwdxsfnf'"
      ]
     },
     "execution_count": 3,
     "metadata": {},
     "output_type": "execute_result"
    }
   ],
   "source": [
    "os.environ.get('password')"
   ]
  },
  {
   "cell_type": "code",
   "execution_count": null,
   "id": "8c722fba",
   "metadata": {},
   "outputs": [],
   "source": []
  },
  {
   "cell_type": "code",
   "execution_count": null,
   "id": "e1c3c43d",
   "metadata": {},
   "outputs": [],
   "source": []
  },
  {
   "cell_type": "code",
   "execution_count": null,
   "id": "39a135d8",
   "metadata": {},
   "outputs": [],
   "source": []
  }
 ],
 "metadata": {
  "kernelspec": {
   "display_name": "Python 3 (ipykernel)",
   "language": "python",
   "name": "python3"
  },
  "language_info": {
   "codemirror_mode": {
    "name": "ipython",
    "version": 3
   },
   "file_extension": ".py",
   "mimetype": "text/x-python",
   "name": "python",
   "nbconvert_exporter": "python",
   "pygments_lexer": "ipython3",
   "version": "3.9.12"
  }
 },
 "nbformat": 4,
 "nbformat_minor": 5
}
